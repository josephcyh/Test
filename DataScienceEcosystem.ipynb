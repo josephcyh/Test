{
 "cells": [
  {
   "cell_type": "markdown",
   "id": "ad20d8c6-0aef-4ed3-8a0f-ef98870bd160",
   "metadata": {},
   "source": [
    "# Data Science Tools and Ecosystem"
   ]
  },
  {
   "cell_type": "markdown",
   "id": "4b0abb77-d6f9-4c65-8263-c608652b6bbe",
   "metadata": {},
   "source": [
    "In this notebook, Data Science Tools and Ecosystem are summarized."
   ]
  },
  {
   "cell_type": "markdown",
   "id": "872701bf-a9a0-4b53-9834-1d6975a2adf1",
   "metadata": {},
   "source": [
    "**Objectives:**\n",
    "- Various languages for Data Science\n",
    "- Pros and cons of tools\n",
    "- List of libraries for Data Science\n",
    "- Types of Machine Learning Models\n",
    "- How to use the notebooks in JupyterLab"
   ]
  },
  {
   "cell_type": "markdown",
   "id": "4d314b45-7c6e-4cef-96b7-4d191daeb5b6",
   "metadata": {},
   "source": [
    "Some of the popular languages that Data Scientists use are:\n",
    "1. Python\n",
    "2. R\n",
    "3. SQL"
   ]
  },
  {
   "cell_type": "markdown",
   "id": "a5491c2d-15b2-478f-b55d-70ea952e08ad",
   "metadata": {},
   "source": [
    "Some of the commonly used libraries used by Data Scientists include:\n",
    "1. NumPy\n",
    "2. Pandas\n",
    "3. Tensorflow\n",
    "4. Matplotlib"
   ]
  },
  {
   "cell_type": "markdown",
   "id": "3b3d6bf4-8a20-4010-887f-2e650f442f62",
   "metadata": {},
   "source": [
    "| Data Science Tools |\n",
    "| ------ |\n",
    "| Jupyter Notebook |\n",
    "| Matplotlib |\n",
    "| Pandas |"
   ]
  },
  {
   "cell_type": "markdown",
   "id": "9ce93133-c975-415c-8acb-7994d15af282",
   "metadata": {},
   "source": [
    "### Below are a few examples of evaluating arithmetic expressions in Python"
   ]
  },
  {
   "cell_type": "code",
   "execution_count": 6,
   "id": "29ed214b-b7f4-424f-89d8-c8b35d11c5d1",
   "metadata": {},
   "outputs": [
    {
     "data": {
      "text/plain": [
       "17"
      ]
     },
     "execution_count": 6,
     "metadata": {},
     "output_type": "execute_result"
    }
   ],
   "source": [
    "#This a simple arithmetic expression to mutiply then add integers\n",
    "(3*4)+5"
   ]
  },
  {
   "cell_type": "code",
   "execution_count": 8,
   "id": "1b1daa52-1ba4-4ebc-b694-9484130080d2",
   "metadata": {},
   "outputs": [
    {
     "data": {
      "text/plain": [
       "3.3333333333333335"
      ]
     },
     "execution_count": 8,
     "metadata": {},
     "output_type": "execute_result"
    }
   ],
   "source": [
    "#This will convert 200 minutes to hours by diving by 60\n",
    "200/60"
   ]
  },
  {
   "cell_type": "markdown",
   "id": "a389e8aa-804a-4dc7-b886-22377e3225d6",
   "metadata": {},
   "source": [
    "## Author \n",
    "Chen Yee Hong"
   ]
  }
 ],
 "metadata": {
  "kernelspec": {
   "display_name": "Python 3 (ipykernel)",
   "language": "python",
   "name": "python3"
  },
  "language_info": {
   "codemirror_mode": {
    "name": "ipython",
    "version": 3
   },
   "file_extension": ".py",
   "mimetype": "text/x-python",
   "name": "python",
   "nbconvert_exporter": "python",
   "pygments_lexer": "ipython3",
   "version": "3.9.23"
  }
 },
 "nbformat": 4,
 "nbformat_minor": 5
}
